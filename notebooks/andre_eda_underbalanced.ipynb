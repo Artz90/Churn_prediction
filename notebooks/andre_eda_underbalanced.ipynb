{
 "cells": [
  {
   "cell_type": "markdown",
   "id": "a32a89d0-b896-4133-abd9-fca6c21b0493",
   "metadata": {},
   "source": [
    "# DATA EDA"
   ]
  },
  {
   "cell_type": "markdown",
   "id": "0dd132c3-844b-478f-ab39-f85f91073329",
   "metadata": {},
   "source": [
    "### Imports"
   ]
  },
  {
   "cell_type": "code",
   "execution_count": 31,
   "id": "f34daa20-56f7-4cb3-8203-c0a39ec68944",
   "metadata": {},
   "outputs": [],
   "source": [
    "#Imports\n",
    "import pandas as pd\n",
    "import numpy as np"
   ]
  },
  {
   "cell_type": "markdown",
   "id": "0e7bc326-ec74-495c-8ff1-5ed80e0406c3",
   "metadata": {},
   "source": [
    "### Dataframes Imports "
   ]
  },
  {
   "cell_type": "code",
   "execution_count": 32,
   "id": "917bd746-056e-4cc1-9199-53d47322c34d",
   "metadata": {},
   "outputs": [],
   "source": [
    "#importing 1st transactions\n",
    "transactions_0_df= pd.read_csv(\"../raw_data/transactions.csv\")\n",
    "#Importing Transactions data\n",
    "transactions_df= pd.read_csv(\"../raw_data/transactions_v2.csv\")\n",
    "#Importing user logs data\n",
    "user_logs_df = pd.read_csv(\"../raw_data/user_logs_v2.csv\")\n",
    "#importing members data\n",
    "members_df = pd.read_csv(\"../raw_data/members_v3.csv\")\n",
    "# import first training dataset\n",
    "train_0_df= pd.read_csv(\"../raw_data/train.csv\")\n",
    "# import training dataset\n",
    "train_df = pd.read_csv(\"../raw_data/train_v2.csv\")\n"
   ]
  },
  {
   "cell_type": "markdown",
   "id": "a4f3e998-ddb4-46a7-aeb0-1b3fc0541bc5",
   "metadata": {},
   "source": [
    "### Building trendline"
   ]
  },
  {
   "cell_type": "code",
   "execution_count": 33,
   "id": "2576b777-e0c8-460e-924c-43b7d7749cdf",
   "metadata": {},
   "outputs": [],
   "source": [
    "#concat vertically\n",
    "transactions_df_concat = pd.concat([transactions_0_df, transactions_df], axis=0)\n",
    "\n",
    "#drop duplicates\n",
    "transactions_df_global = transactions_df_concat.drop_duplicates(keep=\"first\")"
   ]
  },
  {
   "cell_type": "code",
   "execution_count": 34,
   "id": "8114b456-3d08-473a-9c9d-fe917a7ef3d3",
   "metadata": {},
   "outputs": [],
   "source": [
    "#concat vertically\n",
    "train_df_concat = pd.concat([train_0_df, train_df], axis=0)\n",
    "train_df_concat\n",
    "\n",
    "#drop duplicates\n",
    "train_df_global = train_df_concat.drop_duplicates(keep=\"first\")\n"
   ]
  },
  {
   "cell_type": "code",
   "execution_count": 35,
   "id": "2bafcc2f-201b-4921-bd07-454ffe76ef8d",
   "metadata": {},
   "outputs": [
    {
     "data": {
      "text/html": [
       "<div>\n",
       "<style scoped>\n",
       "    .dataframe tbody tr th:only-of-type {\n",
       "        vertical-align: middle;\n",
       "    }\n",
       "\n",
       "    .dataframe tbody tr th {\n",
       "        vertical-align: top;\n",
       "    }\n",
       "\n",
       "    .dataframe thead th {\n",
       "        text-align: right;\n",
       "    }\n",
       "</style>\n",
       "<table border=\"1\" class=\"dataframe\">\n",
       "  <thead>\n",
       "    <tr style=\"text-align: right;\">\n",
       "      <th></th>\n",
       "      <th>msno</th>\n",
       "      <th>is_churn</th>\n",
       "      <th>payment_method_id</th>\n",
       "      <th>payment_plan_days</th>\n",
       "      <th>plan_list_price</th>\n",
       "      <th>actual_amount_paid</th>\n",
       "      <th>is_auto_renew</th>\n",
       "      <th>transaction_date</th>\n",
       "      <th>membership_expire_date</th>\n",
       "      <th>is_cancel</th>\n",
       "    </tr>\n",
       "  </thead>\n",
       "  <tbody>\n",
       "    <tr>\n",
       "      <th>0</th>\n",
       "      <td>waLDQMmcOu2jLDaV1ddDkgCrB/jl6sD66Xzs0Vqax1Y=</td>\n",
       "      <td>1</td>\n",
       "      <td>38</td>\n",
       "      <td>7</td>\n",
       "      <td>0</td>\n",
       "      <td>0</td>\n",
       "      <td>0</td>\n",
       "      <td>20161031</td>\n",
       "      <td>20161107</td>\n",
       "      <td>0</td>\n",
       "    </tr>\n",
       "    <tr>\n",
       "      <th>1</th>\n",
       "      <td>waLDQMmcOu2jLDaV1ddDkgCrB/jl6sD66Xzs0Vqax1Y=</td>\n",
       "      <td>1</td>\n",
       "      <td>38</td>\n",
       "      <td>30</td>\n",
       "      <td>149</td>\n",
       "      <td>149</td>\n",
       "      <td>0</td>\n",
       "      <td>20170107</td>\n",
       "      <td>20170206</td>\n",
       "      <td>0</td>\n",
       "    </tr>\n",
       "    <tr>\n",
       "      <th>2</th>\n",
       "      <td>QA7uiXy8vIbUSPOkCf9RwQ3FsT8jVq2OxDr8zqa7bRQ=</td>\n",
       "      <td>1</td>\n",
       "      <td>39</td>\n",
       "      <td>30</td>\n",
       "      <td>149</td>\n",
       "      <td>149</td>\n",
       "      <td>1</td>\n",
       "      <td>20161031</td>\n",
       "      <td>20161221</td>\n",
       "      <td>0</td>\n",
       "    </tr>\n",
       "    <tr>\n",
       "      <th>3</th>\n",
       "      <td>QA7uiXy8vIbUSPOkCf9RwQ3FsT8jVq2OxDr8zqa7bRQ=</td>\n",
       "      <td>1</td>\n",
       "      <td>39</td>\n",
       "      <td>30</td>\n",
       "      <td>149</td>\n",
       "      <td>149</td>\n",
       "      <td>1</td>\n",
       "      <td>20160715</td>\n",
       "      <td>20160821</td>\n",
       "      <td>0</td>\n",
       "    </tr>\n",
       "    <tr>\n",
       "      <th>4</th>\n",
       "      <td>QA7uiXy8vIbUSPOkCf9RwQ3FsT8jVq2OxDr8zqa7bRQ=</td>\n",
       "      <td>1</td>\n",
       "      <td>39</td>\n",
       "      <td>30</td>\n",
       "      <td>149</td>\n",
       "      <td>149</td>\n",
       "      <td>1</td>\n",
       "      <td>20160831</td>\n",
       "      <td>20161021</td>\n",
       "      <td>0</td>\n",
       "    </tr>\n",
       "    <tr>\n",
       "      <th>...</th>\n",
       "      <td>...</td>\n",
       "      <td>...</td>\n",
       "      <td>...</td>\n",
       "      <td>...</td>\n",
       "      <td>...</td>\n",
       "      <td>...</td>\n",
       "      <td>...</td>\n",
       "      <td>...</td>\n",
       "      <td>...</td>\n",
       "      <td>...</td>\n",
       "    </tr>\n",
       "    <tr>\n",
       "      <th>18393086</th>\n",
       "      <td>Zkuhc7S+hhMgLkKft6lfrsyi2XHDo6WH7QDdXlringE=</td>\n",
       "      <td>0</td>\n",
       "      <td>40</td>\n",
       "      <td>30</td>\n",
       "      <td>149</td>\n",
       "      <td>149</td>\n",
       "      <td>1</td>\n",
       "      <td>20151127</td>\n",
       "      <td>20151231</td>\n",
       "      <td>0</td>\n",
       "    </tr>\n",
       "    <tr>\n",
       "      <th>18393087</th>\n",
       "      <td>Zkuhc7S+hhMgLkKft6lfrsyi2XHDo6WH7QDdXlringE=</td>\n",
       "      <td>0</td>\n",
       "      <td>40</td>\n",
       "      <td>30</td>\n",
       "      <td>149</td>\n",
       "      <td>149</td>\n",
       "      <td>1</td>\n",
       "      <td>20160527</td>\n",
       "      <td>20160701</td>\n",
       "      <td>0</td>\n",
       "    </tr>\n",
       "    <tr>\n",
       "      <th>18393088</th>\n",
       "      <td>Zkuhc7S+hhMgLkKft6lfrsyi2XHDo6WH7QDdXlringE=</td>\n",
       "      <td>0</td>\n",
       "      <td>40</td>\n",
       "      <td>30</td>\n",
       "      <td>149</td>\n",
       "      <td>149</td>\n",
       "      <td>1</td>\n",
       "      <td>20160227</td>\n",
       "      <td>20160331</td>\n",
       "      <td>0</td>\n",
       "    </tr>\n",
       "    <tr>\n",
       "      <th>18393089</th>\n",
       "      <td>Zkuhc7S+hhMgLkKft6lfrsyi2XHDo6WH7QDdXlringE=</td>\n",
       "      <td>0</td>\n",
       "      <td>40</td>\n",
       "      <td>30</td>\n",
       "      <td>149</td>\n",
       "      <td>149</td>\n",
       "      <td>1</td>\n",
       "      <td>20161027</td>\n",
       "      <td>20161201</td>\n",
       "      <td>0</td>\n",
       "    </tr>\n",
       "    <tr>\n",
       "      <th>18393090</th>\n",
       "      <td>Zkuhc7S+hhMgLkKft6lfrsyi2XHDo6WH7QDdXlringE=</td>\n",
       "      <td>0</td>\n",
       "      <td>40</td>\n",
       "      <td>30</td>\n",
       "      <td>149</td>\n",
       "      <td>149</td>\n",
       "      <td>1</td>\n",
       "      <td>20170327</td>\n",
       "      <td>20170501</td>\n",
       "      <td>0</td>\n",
       "    </tr>\n",
       "  </tbody>\n",
       "</table>\n",
       "<p>18393091 rows × 10 columns</p>\n",
       "</div>"
      ],
      "text/plain": [
       "                                                  msno  is_churn  \\\n",
       "0         waLDQMmcOu2jLDaV1ddDkgCrB/jl6sD66Xzs0Vqax1Y=         1   \n",
       "1         waLDQMmcOu2jLDaV1ddDkgCrB/jl6sD66Xzs0Vqax1Y=         1   \n",
       "2         QA7uiXy8vIbUSPOkCf9RwQ3FsT8jVq2OxDr8zqa7bRQ=         1   \n",
       "3         QA7uiXy8vIbUSPOkCf9RwQ3FsT8jVq2OxDr8zqa7bRQ=         1   \n",
       "4         QA7uiXy8vIbUSPOkCf9RwQ3FsT8jVq2OxDr8zqa7bRQ=         1   \n",
       "...                                                ...       ...   \n",
       "18393086  Zkuhc7S+hhMgLkKft6lfrsyi2XHDo6WH7QDdXlringE=         0   \n",
       "18393087  Zkuhc7S+hhMgLkKft6lfrsyi2XHDo6WH7QDdXlringE=         0   \n",
       "18393088  Zkuhc7S+hhMgLkKft6lfrsyi2XHDo6WH7QDdXlringE=         0   \n",
       "18393089  Zkuhc7S+hhMgLkKft6lfrsyi2XHDo6WH7QDdXlringE=         0   \n",
       "18393090  Zkuhc7S+hhMgLkKft6lfrsyi2XHDo6WH7QDdXlringE=         0   \n",
       "\n",
       "          payment_method_id  payment_plan_days  plan_list_price  \\\n",
       "0                        38                  7                0   \n",
       "1                        38                 30              149   \n",
       "2                        39                 30              149   \n",
       "3                        39                 30              149   \n",
       "4                        39                 30              149   \n",
       "...                     ...                ...              ...   \n",
       "18393086                 40                 30              149   \n",
       "18393087                 40                 30              149   \n",
       "18393088                 40                 30              149   \n",
       "18393089                 40                 30              149   \n",
       "18393090                 40                 30              149   \n",
       "\n",
       "          actual_amount_paid  is_auto_renew  transaction_date  \\\n",
       "0                          0              0          20161031   \n",
       "1                        149              0          20170107   \n",
       "2                        149              1          20161031   \n",
       "3                        149              1          20160715   \n",
       "4                        149              1          20160831   \n",
       "...                      ...            ...               ...   \n",
       "18393086                 149              1          20151127   \n",
       "18393087                 149              1          20160527   \n",
       "18393088                 149              1          20160227   \n",
       "18393089                 149              1          20161027   \n",
       "18393090                 149              1          20170327   \n",
       "\n",
       "          membership_expire_date  is_cancel  \n",
       "0                       20161107          0  \n",
       "1                       20170206          0  \n",
       "2                       20161221          0  \n",
       "3                       20160821          0  \n",
       "4                       20161021          0  \n",
       "...                          ...        ...  \n",
       "18393086                20151231          0  \n",
       "18393087                20160701          0  \n",
       "18393088                20160331          0  \n",
       "18393089                20161201          0  \n",
       "18393090                20170501          0  \n",
       "\n",
       "[18393091 rows x 10 columns]"
      ]
     },
     "execution_count": 35,
     "metadata": {},
     "output_type": "execute_result"
    }
   ],
   "source": [
    "#merge with transaction data\n",
    "transactions_train_df = pd.merge(train_df_global, transactions_df_global, on='msno', how='left')\n",
    "transactions_train_df"
   ]
  },
  {
   "cell_type": "code",
   "execution_count": 36,
   "id": "4c42d805-c6d3-418f-87f5-870cb336f725",
   "metadata": {},
   "outputs": [],
   "source": [
    "#convert to datetime\n",
    "transactions_train_df.loc[:,'transaction_date'] = pd.to_datetime(transactions_train_df['transaction_date'], format='%Y%m%d')\n",
    "transactions_train_df.loc[:,'membership_expire_date'] = pd.to_datetime(transactions_train_df['membership_expire_date'], format='%Y%m%d')"
   ]
  },
  {
   "cell_type": "code",
   "execution_count": 37,
   "id": "4690601e-88b6-42b0-9979-eb132ca566d6",
   "metadata": {},
   "outputs": [],
   "source": [
    "# Sort the DataFrame by 'msno' and 'transaction_date'\n",
    "transactions_train_df = transactions_train_df.sort_values(by=['msno', 'transaction_date'], ascending=[True, True],)"
   ]
  },
  {
   "cell_type": "code",
   "execution_count": 38,
   "id": "87196a02-cb9d-4537-9b0e-5ddd919f198d",
   "metadata": {},
   "outputs": [],
   "source": [
    "#compute previous period churns\n",
    "transactions_train_df['transaction_date_-1'] = transactions_train_df.groupby('msno')['transaction_date'].shift(+1)\n",
    "transactions_train_df['membership_expire_date_-1'] = transactions_train_df.groupby('msno')['membership_expire_date'].shift(+1)\n",
    "transactions_train_df['period_0'] = transactions_train_df['membership_expire_date_-1']-transactions_train_df['transaction_date']\n",
    "transactions_train_df['period_0_churn'] = np.where(transactions_train_df['period_0'] <= pd.Timedelta(days=-30), 1, np.where(transactions_train_df['period_0'].isna(), np.nan, 0))\n",
    "\n",
    "transactions_train_df['transaction_date_-2'] = transactions_train_df.groupby('msno')['transaction_date'].shift(+2)\n",
    "transactions_train_df['membership_expire_date_-2'] = transactions_train_df.groupby('msno')['membership_expire_date'].shift(+2)\n",
    "transactions_train_df['period_-1'] = transactions_train_df['membership_expire_date_-2']-transactions_train_df['transaction_date_-1']\n",
    "transactions_train_df['period_-1_churn'] = np.where(transactions_train_df['period_-1'] <= pd.Timedelta(days=-30), 1, np.where(transactions_train_df['period_-1'].isna(), np.nan, 0))\n",
    "\n",
    "\n",
    "transactions_train_df['transaction_date_-3'] = transactions_train_df.groupby('msno')['transaction_date'].shift(+3)\n",
    "transactions_train_df['membership_expire_date_-3'] = transactions_train_df.groupby('msno')['membership_expire_date'].shift(+3)\n",
    "transactions_train_df['period_-2'] = transactions_train_df['membership_expire_date_-3']-transactions_train_df['transaction_date_-2']\n",
    "transactions_train_df['period_-2_churn'] = np.where(transactions_train_df['period_-2'] <= pd.Timedelta(days=-30), 1, np.where(transactions_train_df['period_-2'].isna(), np.nan, 0))\n",
    "\n",
    "\n",
    "transactions_train_df['transaction_date_-4'] = transactions_train_df.groupby('msno')['transaction_date'].shift(+4)\n",
    "transactions_train_df['membership_expire_date_-4'] = transactions_train_df.groupby('msno')['membership_expire_date'].shift(+4)\n",
    "transactions_train_df['period_-3'] = transactions_train_df['membership_expire_date_-4']-transactions_train_df['transaction_date_-3']\n",
    "transactions_train_df['period_-3_churn'] = np.where(transactions_train_df['period_-3'] <= pd.Timedelta(days=-30), 1, np.where(transactions_train_df['period_-3'].isna(), np.nan, 0))\n",
    "\n",
    "\n",
    "transactions_train_df['transaction_date_-5'] = transactions_train_df.groupby('msno')['transaction_date'].shift(+5)\n",
    "transactions_train_df['membership_expire_date_-5'] = transactions_train_df.groupby('msno')['membership_expire_date'].shift(+5)\n",
    "transactions_train_df['period_-4'] = transactions_train_df['membership_expire_date_-5']-transactions_train_df['transaction_date_-4']\n",
    "transactions_train_df['period_-4_churn'] = np.where(transactions_train_df['period_-4'] <= pd.Timedelta(days=-30), 1, np.where(transactions_train_df['period_-4'].isna(), np.nan, 0))\n",
    "\n",
    "\n",
    "transactions_train_df['transaction_date_-6'] = transactions_train_df.groupby('msno')['transaction_date'].shift(+6)\n",
    "transactions_train_df['membership_expire_date_-6'] = transactions_train_df.groupby('msno')['membership_expire_date'].shift(+6)\n",
    "transactions_train_df['period_-5'] = transactions_train_df['membership_expire_date_-6']-transactions_train_df['transaction_date_-5']\n",
    "transactions_train_df['period_-5_churn'] = np.where(transactions_train_df['period_-5'] <= pd.Timedelta(days=-30), 1, np.where(transactions_train_df['period_-5'].isna(), np.nan, 0))\n",
    "\n",
    "\n"
   ]
  },
  {
   "cell_type": "code",
   "execution_count": 39,
   "id": "85347080-39e9-45bf-bbd9-f3589d671796",
   "metadata": {},
   "outputs": [],
   "source": [
    "#only keeping rows with the latest transactions \n",
    "latest_transaction_indexes = transactions_train_df.groupby('msno')['transaction_date'].idxmax()\n",
    "latest_transactions_with_churn = transactions_train_df.loc[latest_transaction_indexes]"
   ]
  },
  {
   "cell_type": "code",
   "execution_count": 40,
   "id": "fce71f1f-fdbd-46d9-b4cc-65ec42fba7f3",
   "metadata": {},
   "outputs": [],
   "source": [
    "# removing unnecessary columns\n",
    "trendline_df = latest_transactions_with_churn.drop(axis=1, columns=[\n",
    "    'transaction_date_-1',\n",
    "    'membership_expire_date_-1',\n",
    "    'period_0',\n",
    "    'transaction_date_-2',\n",
    "    'membership_expire_date_-2',\n",
    "    'period_-1',\n",
    "    'transaction_date_-3',\n",
    "    'membership_expire_date_-3',\n",
    "    'period_-2',\n",
    "    'transaction_date_-4',\n",
    "    'membership_expire_date_-4',\n",
    "    'period_-3',\n",
    "    'transaction_date_-5',\n",
    "    'membership_expire_date_-5',\n",
    "    'period_-4',\n",
    "    'transaction_date_-6',\n",
    "    'membership_expire_date_-6',\n",
    "    'period_-5',\n",
    "    'is_churn',\n",
    "    'payment_method_id',\n",
    "    'payment_plan_days',\n",
    "    'plan_list_price',\n",
    "    'actual_amount_paid',\n",
    "    'is_auto_renew',\n",
    "    'transaction_date',\n",
    "    'membership_expire_date',\n",
    "    'is_cancel'\n",
    "])\n",
    "                                                                        "
   ]
  },
  {
   "cell_type": "markdown",
   "id": "6fa722f9-d842-411c-bbbb-9d3b46582b4e",
   "metadata": {},
   "source": [
    "### Transactions Data"
   ]
  },
  {
   "cell_type": "code",
   "execution_count": 41,
   "id": "7a7b56bd-8d00-45df-9cb8-12a94e9298fd",
   "metadata": {},
   "outputs": [],
   "source": [
    "###### converting transaction_date and membership_date to datetime object\n",
    "transactions_df['transaction_date'] = pd.to_datetime(transactions_df['transaction_date'], format='%Y%m%d')\n",
    "transactions_df['membership_expire_date'] = pd.to_datetime(transactions_df['membership_expire_date'], format='%Y%m%d')\n",
    "\n",
    "# removing duplicates and leaving only the latest transaction date\n",
    "transactions_df_lt = transactions_df.loc[transactions_df.groupby('msno').transaction_date.idxmax()]\n",
    "\n",
    "# creating remaining plan duration column\n",
    "transactions_df_lt['remaining_plan_duration'] = transactions_df_lt['membership_expire_date'] - transactions_df_lt['transaction_date']\n",
    "\n",
    "# creating discount column\n",
    "transactions_df_lt['is_discount'] = transactions_df_lt.apply(lambda x: '0' if (x['actual_amount_paid'] -x['plan_list_price'])>=0 else '1', axis=1)"
   ]
  },
  {
   "cell_type": "markdown",
   "id": "b4a1472c-8948-485d-9a11-13fbe4f435ab",
   "metadata": {},
   "source": [
    "### User logs Data"
   ]
  },
  {
   "cell_type": "code",
   "execution_count": 42,
   "id": "99a982f4-aeb9-4bc8-b305-7548940c9b5c",
   "metadata": {},
   "outputs": [],
   "source": [
    "# Converting date into datetime object\n",
    "user_logs_df['date'] = pd.to_datetime(user_logs_df['date'], format='%Y%m%d')\n",
    "\n",
    "#create new dataframe from transactions table with only msno and latest transaction date\n",
    "latest_transactions_per_msno = transactions_df_lt[['msno', 'transaction_date']]\n",
    "\n",
    "#Merge user logs with latest transaction date\n",
    "merged_df = user_logs_df.merge(latest_transactions_per_msno, on='msno', how='left')\n",
    "\n",
    "# drop msno's where transaction date is NaN\n",
    "merged_df = merged_df.dropna(subset=['transaction_date'])\n",
    "\n",
    "#removing rows where the user log data is before the last transaction date\n",
    "user_logs_atd= merged_df.loc[merged_df['date']>=merged_df['transaction_date']]\n",
    "\n",
    "# removing data column\n",
    "user_logs_atd = user_logs_atd.drop(columns=['date','transaction_date'])\n",
    "\n",
    "#groupby msno and summing all values\n",
    "user_logs_atd = user_logs_atd.groupby('msno').sum()"
   ]
  },
  {
   "cell_type": "markdown",
   "id": "6a652f3c-944d-4229-a130-a2b216c22e09",
   "metadata": {},
   "source": [
    "### Merging"
   ]
  },
  {
   "cell_type": "code",
   "execution_count": 43,
   "id": "78d1507e-a07b-4baa-9cb8-137220712ca7",
   "metadata": {},
   "outputs": [],
   "source": [
    "# Merging transactions, user logs and members data to Train dataframe\n",
    "train_df = train_df.merge(transactions_df_lt, on='msno', how='left')\n",
    "train_df = train_df.merge(user_logs_atd, on='msno', how='left')\n",
    "train_df = train_df.merge(members_df, on='msno', how='left')\n",
    "train_df = train_df.merge(trendline_df, on='msno', how='left')"
   ]
  },
  {
   "cell_type": "markdown",
   "id": "c5cb416a-517e-44cb-bf0d-af2665d02fdd",
   "metadata": {},
   "source": [
    "### Feature engineering"
   ]
  },
  {
   "cell_type": "code",
   "execution_count": 44,
   "id": "ebae0f3b-6337-459d-8df2-11b11765d6b9",
   "metadata": {},
   "outputs": [],
   "source": [
    "# Drop Gender column\n",
    "train_df = train_df.drop(['gender'],axis=1)"
   ]
  },
  {
   "cell_type": "code",
   "execution_count": 45,
   "id": "df5d0f57-3e97-4355-9fea-50b7c043a67f",
   "metadata": {},
   "outputs": [],
   "source": [
    "# Drop NaN\n",
    "train_df = train_df.dropna()"
   ]
  },
  {
   "cell_type": "code",
   "execution_count": 46,
   "id": "9854d09c-13b6-4851-8f48-eb2004c8b6f2",
   "metadata": {},
   "outputs": [],
   "source": [
    "# Changing bd outliers to NaN\n",
    "train_df['bd'] = train_df['bd'].apply(lambda x: np.nan if x <14 or x > 75 else x)"
   ]
  },
  {
   "cell_type": "code",
   "execution_count": 47,
   "id": "6d9c9026-f258-4d1a-a8d0-027a1790d723",
   "metadata": {},
   "outputs": [],
   "source": [
    "# Converting remaining plan duration to int\n",
    "train_df['remaining_plan_duration'] = train_df['remaining_plan_duration'].dt.days"
   ]
  },
  {
   "cell_type": "code",
   "execution_count": 48,
   "id": "4822b1eb-79a3-4708-8449-4f1e3d18dd7d",
   "metadata": {},
   "outputs": [],
   "source": [
    "# Converting total seconds to hours\n",
    "train_df['total_secs']= round(train_df['total_secs']/3600,2)"
   ]
  },
  {
   "cell_type": "code",
   "execution_count": 49,
   "id": "f302f5ac-d1e9-46d0-a52e-2b72a55c3695",
   "metadata": {},
   "outputs": [],
   "source": [
    "# Creating average usage (hours) per day from latest transaction\n",
    "train_df['usage_from_ltd'] = round(train_df['total_secs']/train_df['remaining_plan_duration'],2)\n",
    "# replacing Nan with 0 \n",
    "train_df['usage_from_ltd'].replace([np.nan], 0, inplace=True)\n",
    "# replacing inf values with the totalsecs usage.\n",
    "train_df['usage_from_ltd'] = np.where(train_df['usage_from_ltd'] == np.inf, train_df['total_secs'],train_df['usage_from_ltd'])"
   ]
  },
  {
   "cell_type": "code",
   "execution_count": 50,
   "id": "55cf16b7-5361-450e-9276-485fca8cfd27",
   "metadata": {},
   "outputs": [],
   "source": [
    "# converting registration time to datetime object\n",
    "train_df['registration_init_time'] = pd.to_datetime(train_df['registration_init_time'], format='%Y%m%d')"
   ]
  },
  {
   "cell_type": "code",
   "execution_count": 51,
   "id": "91e7a3f0-f687-4086-b2af-869f5b243f34",
   "metadata": {},
   "outputs": [],
   "source": [
    "# creating discount percentage column\n",
    "train_df['discount_percentage'] = round((train_df['plan_list_price'] - train_df['actual_amount_paid'])/train_df['plan_list_price'],2)\n",
    "\n",
    "train_df['discount_percentage'].replace([np.nan,-0.01,0.01], 0, inplace=True)"
   ]
  },
  {
   "cell_type": "markdown",
   "id": "f7b32396-0b7b-45d9-b8ed-6cb86d80e984",
   "metadata": {},
   "source": [
    "### Cyclic Encoding"
   ]
  },
  {
   "cell_type": "code",
   "execution_count": 52,
   "id": "9dfb1c1d-bf4f-48bc-8772-9c9e9a698356",
   "metadata": {},
   "outputs": [],
   "source": [
    "def encode(data, col, max_val):\n",
    "    data[col + '_sin'] = np.sin(2 * np.pi * data[col]/max_val)\n",
    "    data[col + '_cos'] = np.cos(2 * np.pi * data[col]/max_val)\n",
    "    return data"
   ]
  },
  {
   "cell_type": "code",
   "execution_count": 53,
   "id": "1ab47860-1b47-48dd-9232-aa3b38bc4525",
   "metadata": {},
   "outputs": [],
   "source": [
    "# cyclic encoding transaction date\n",
    "#year\n",
    "train_df['last_transaction_year'] = train_df['transaction_date'].dt.year\n",
    "\n",
    "#month\n",
    "train_df['last_transaction_month'] = train_df['transaction_date'].dt.month\n",
    "train_df = encode(train_df, 'last_transaction_month', 12)\n",
    "\n",
    "#day\n",
    "train_df['last_transaction_day'] = train_df['transaction_date'].dt.day\n",
    "train_df= encode(train_df, 'last_transaction_day', 31)\n",
    "\n",
    "train_df =train_df.drop(['last_transaction_month', 'last_transaction_day'],axis=1)"
   ]
  },
  {
   "cell_type": "code",
   "execution_count": 54,
   "id": "872c1de1-55a1-4021-84e5-527ff29203a5",
   "metadata": {},
   "outputs": [],
   "source": [
    "# cyclic encoding membership expire date\n",
    "#year\n",
    "train_df['expire_year'] = train_df['membership_expire_date'].dt.year\n",
    "\n",
    "#month\n",
    "train_df['expire_month'] = train_df['membership_expire_date'].dt.month\n",
    "train_df = encode(train_df, 'expire_month', 12)\n",
    "\n",
    "#day\n",
    "train_df['expire_day'] = train_df['membership_expire_date'].dt.day\n",
    "train_df= encode(train_df, 'expire_day', 31)\n",
    "\n",
    "# droping month and day columns\n",
    "train_df =train_df.drop(['expire_month', 'expire_day'],axis=1)"
   ]
  },
  {
   "cell_type": "code",
   "execution_count": 55,
   "id": "8a96d5c2-f5dd-4b93-b660-b283f3e0dc45",
   "metadata": {},
   "outputs": [],
   "source": [
    "# cyclic encoding registration date\n",
    "#year\n",
    "train_df['registration_year'] = train_df['registration_init_time'].dt.year\n",
    "\n",
    "#month\n",
    "train_df['registration_month'] = train_df['registration_init_time'].dt.month\n",
    "train_df = encode(train_df, 'registration_month', 12)\n",
    "\n",
    "#day\n",
    "train_df['registration_day'] = train_df['registration_init_time'].dt.day\n",
    "train_df= encode(train_df, 'registration_day', 31)\n",
    "\n",
    "# droping month and day columns\n",
    "train_df =train_df.drop(['registration_month', 'registration_day'],axis=1)\n"
   ]
  },
  {
   "cell_type": "code",
   "execution_count": 56,
   "id": "3d3644fd-e69e-4354-b717-66f5b451176d",
   "metadata": {},
   "outputs": [],
   "source": [
    "# droping date columns to avoid data leakege\n",
    "train_df =train_df.drop(['registration_init_time', 'membership_expire_date', 'transaction_date'],axis=1)"
   ]
  },
  {
   "cell_type": "code",
   "execution_count": 57,
   "id": "d783ff36-1d26-4fda-b133-555680138061",
   "metadata": {},
   "outputs": [
    {
     "name": "stdout",
     "output_type": "stream",
     "text": [
      "<class 'pandas.core.frame.DataFrame'>\n",
      "Index: 535129 entries, 2 to 970956\n",
      "Data columns (total 43 columns):\n",
      " #   Column                      Non-Null Count   Dtype  \n",
      "---  ------                      --------------   -----  \n",
      " 0   msno                        535129 non-null  object \n",
      " 1   is_churn                    535129 non-null  int64  \n",
      " 2   payment_method_id           535129 non-null  float64\n",
      " 3   payment_plan_days           535129 non-null  float64\n",
      " 4   plan_list_price             535129 non-null  float64\n",
      " 5   actual_amount_paid          535129 non-null  float64\n",
      " 6   is_auto_renew               535129 non-null  float64\n",
      " 7   is_cancel                   535129 non-null  float64\n",
      " 8   remaining_plan_duration     535129 non-null  int64  \n",
      " 9   is_discount                 535129 non-null  object \n",
      " 10  num_25                      535129 non-null  float64\n",
      " 11  num_50                      535129 non-null  float64\n",
      " 12  num_75                      535129 non-null  float64\n",
      " 13  num_985                     535129 non-null  float64\n",
      " 14  num_100                     535129 non-null  float64\n",
      " 15  num_unq                     535129 non-null  float64\n",
      " 16  total_secs                  535129 non-null  float64\n",
      " 17  city                        535129 non-null  float64\n",
      " 18  bd                          252837 non-null  float64\n",
      " 19  registered_via              535129 non-null  float64\n",
      " 20  period_0_churn              535129 non-null  float64\n",
      " 21  period_-1_churn             535129 non-null  float64\n",
      " 22  period_-2_churn             535129 non-null  float64\n",
      " 23  period_-3_churn             535129 non-null  float64\n",
      " 24  period_-4_churn             535129 non-null  float64\n",
      " 25  period_-5_churn             535129 non-null  float64\n",
      " 26  usage_from_ltd              535129 non-null  float64\n",
      " 27  discount_percentage         535129 non-null  float64\n",
      " 28  last_transaction_year       535129 non-null  int32  \n",
      " 29  last_transaction_month_sin  535129 non-null  float64\n",
      " 30  last_transaction_month_cos  535129 non-null  float64\n",
      " 31  last_transaction_day_sin    535129 non-null  float64\n",
      " 32  last_transaction_day_cos    535129 non-null  float64\n",
      " 33  expire_year                 535129 non-null  int32  \n",
      " 34  expire_month_sin            535129 non-null  float64\n",
      " 35  expire_month_cos            535129 non-null  float64\n",
      " 36  expire_day_sin              535129 non-null  float64\n",
      " 37  expire_day_cos              535129 non-null  float64\n",
      " 38  registration_year           535129 non-null  int32  \n",
      " 39  registration_month_sin      535129 non-null  float64\n",
      " 40  registration_month_cos      535129 non-null  float64\n",
      " 41  registration_day_sin        535129 non-null  float64\n",
      " 42  registration_day_cos        535129 non-null  float64\n",
      "dtypes: float64(36), int32(3), int64(2), object(2)\n",
      "memory usage: 173.5+ MB\n"
     ]
    }
   ],
   "source": [
    "train_df.info()"
   ]
  },
  {
   "cell_type": "code",
   "execution_count": 58,
   "id": "00ab4a58-3ff2-4439-870f-7dd79504316d",
   "metadata": {},
   "outputs": [
    {
     "data": {
      "text/plain": [
       "is_churn\n",
       "0    507132\n",
       "1     27997\n",
       "Name: count, dtype: int64"
      ]
     },
     "execution_count": 58,
     "metadata": {},
     "output_type": "execute_result"
    }
   ],
   "source": [
    "train_df.value_counts('is_churn')"
   ]
  },
  {
   "cell_type": "code",
   "execution_count": 59,
   "id": "89dbc466-ba99-4a77-b93e-85b07a061d5e",
   "metadata": {},
   "outputs": [],
   "source": [
    "df_no_churn = train_df[train_df['is_churn'] == 0]\n",
    "df_churn = train_df[train_df['is_churn'] == 1]\n",
    "df_no_churn = df_no_churn.sample(27997, random_state=42)\n",
    "train_underbalancing = pd.concat([df_no_churn, df_churn], axis=0)\n",
    "train_underbalancing.to_csv('churn_df_underbalanced.csv')"
   ]
  },
  {
   "cell_type": "code",
   "execution_count": null,
   "id": "105ac794-b61c-46ef-a3b8-042b11852430",
   "metadata": {},
   "outputs": [],
   "source": []
  }
 ],
 "metadata": {
  "kernelspec": {
   "display_name": "Python 3 (ipykernel)",
   "language": "python",
   "name": "python3"
  },
  "language_info": {
   "codemirror_mode": {
    "name": "ipython",
    "version": 3
   },
   "file_extension": ".py",
   "mimetype": "text/x-python",
   "name": "python",
   "nbconvert_exporter": "python",
   "pygments_lexer": "ipython3",
   "version": "3.10.6"
  }
 },
 "nbformat": 4,
 "nbformat_minor": 5
}
