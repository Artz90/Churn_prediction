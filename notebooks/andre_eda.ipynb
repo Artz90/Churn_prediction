{
 "cells": [
  {
   "cell_type": "markdown",
   "id": "a32a89d0-b896-4133-abd9-fca6c21b0493",
   "metadata": {},
   "source": [
    "# DATA EDA"
   ]
  },
  {
   "cell_type": "markdown",
   "id": "0dd132c3-844b-478f-ab39-f85f91073329",
   "metadata": {},
   "source": [
    "### Imports"
   ]
  },
  {
   "cell_type": "code",
   "execution_count": 1,
   "id": "f34daa20-56f7-4cb3-8203-c0a39ec68944",
   "metadata": {},
   "outputs": [],
   "source": [
    "#Imports\n",
    "import pandas as pd\n",
    "import numpy as np"
   ]
  },
  {
   "cell_type": "markdown",
   "id": "0e7bc326-ec74-495c-8ff1-5ed80e0406c3",
   "metadata": {},
   "source": [
    "### Dataframes Imports "
   ]
  },
  {
   "cell_type": "code",
   "execution_count": 2,
   "id": "917bd746-056e-4cc1-9199-53d47322c34d",
   "metadata": {},
   "outputs": [],
   "source": [
    "#Importing Transactions data\n",
    "transactions_df= pd.read_csv(\"/Users/andretomaz/code/XavierLooyens/Churn_prediction/raw_data/transactions_v2.csv\")\n",
    "#Importing user logs data\n",
    "user_logs_df = pd.read_csv(\"/Users/andretomaz/code/XavierLooyens/Churn_prediction/raw_data/user_logs_v2.csv\")\n",
    "#importing members data\n",
    "members_df = pd.read_csv(\"/Users/andretomaz/code/XavierLooyens/Churn_prediction/raw_data/members_v3.csv\")\n",
    "# import training dataset\n",
    "train_df = pd.read_csv(\"/Users/andretomaz/code/XavierLooyens/Churn_prediction/raw_data/train_v2.csv\")"
   ]
  },
  {
   "cell_type": "markdown",
   "id": "6fa722f9-d842-411c-bbbb-9d3b46582b4e",
   "metadata": {},
   "source": [
    "### Transactions Data"
   ]
  },
  {
   "cell_type": "code",
   "execution_count": 3,
   "id": "7a7b56bd-8d00-45df-9cb8-12a94e9298fd",
   "metadata": {},
   "outputs": [],
   "source": [
    "###### converting transaction_date and membership_date to datetime object\n",
    "transactions_df['transaction_date'] = pd.to_datetime(transactions_df['transaction_date'], format='%Y%m%d')\n",
    "transactions_df['membership_expire_date'] = pd.to_datetime(transactions_df['membership_expire_date'], format='%Y%m%d')\n",
    "\n",
    "# removing duplicates and leaving only the latest transaction date\n",
    "transactions_df_lt = transactions_df.loc[transactions_df.groupby('msno').transaction_date.idxmax()]\n",
    "\n",
    "# creating remaining plan duration column\n",
    "transactions_df_lt['remaining_plan_duration'] = transactions_df_lt['membership_expire_date'] - transactions_df_lt['transaction_date']\n",
    "\n",
    "# creating discount column\n",
    "transactions_df_lt['is_discount'] = transactions_df_lt.apply(lambda x: '0' if (x['actual_amount_paid'] -x['plan_list_price'])>=0 else '1', axis=1)"
   ]
  },
  {
   "cell_type": "markdown",
   "id": "b4a1472c-8948-485d-9a11-13fbe4f435ab",
   "metadata": {},
   "source": [
    "### User logs Data"
   ]
  },
  {
   "cell_type": "code",
   "execution_count": 4,
   "id": "99a982f4-aeb9-4bc8-b305-7548940c9b5c",
   "metadata": {},
   "outputs": [],
   "source": [
    "# Converting date into datetime object\n",
    "user_logs_df['date'] = pd.to_datetime(user_logs_df['date'], format='%Y%m%d')\n",
    "\n",
    "#create new dataframe from transactions table with only msno and latest transaction date\n",
    "latest_transactions_per_msno = transactions_df_lt[['msno', 'transaction_date']]\n",
    "\n",
    "#Merge user logs with latest transaction date\n",
    "merged_df = user_logs_df.merge(latest_transactions_per_msno, on='msno', how='left')\n",
    "\n",
    "# drop msno's where transaction date is NaN\n",
    "merged_df = merged_df.dropna(subset=['transaction_date'])\n",
    "\n",
    "#removing rows where the user log data is before the last transaction date\n",
    "user_logs_atd= merged_df.loc[merged_df['date']>=merged_df['transaction_date']]\n",
    "\n",
    "# removing data column\n",
    "user_logs_atd = user_logs_atd.drop(columns=['date','transaction_date'])\n",
    "\n",
    "#groupby msno and summing all values\n",
    "user_logs_atd = user_logs_atd.groupby('msno').sum()"
   ]
  },
  {
   "cell_type": "markdown",
   "id": "6a652f3c-944d-4229-a130-a2b216c22e09",
   "metadata": {},
   "source": [
    "### Merging"
   ]
  },
  {
   "cell_type": "code",
   "execution_count": 5,
   "id": "78d1507e-a07b-4baa-9cb8-137220712ca7",
   "metadata": {},
   "outputs": [],
   "source": [
    "# Merging transactions, user logs and members data to Train dataframe\n",
    "train_df = train_df.merge(transactions_df_lt, on='msno', how='left')\n",
    "train_df = train_df.merge(user_logs_atd, on='msno', how='left')\n",
    "train_df = train_df.merge(members_df, on='msno', how='left')"
   ]
  },
  {
   "cell_type": "markdown",
   "id": "c5cb416a-517e-44cb-bf0d-af2665d02fdd",
   "metadata": {},
   "source": [
    "### Feature engineering"
   ]
  },
  {
   "cell_type": "code",
   "execution_count": 6,
   "id": "ebae0f3b-6337-459d-8df2-11b11765d6b9",
   "metadata": {},
   "outputs": [],
   "source": [
    "# Drop Gender column\n",
    "train_df = train_df.drop(['gender'],axis=1)"
   ]
  },
  {
   "cell_type": "code",
   "execution_count": 7,
   "id": "df5d0f57-3e97-4355-9fea-50b7c043a67f",
   "metadata": {},
   "outputs": [],
   "source": [
    "# Drop NaN\n",
    "train_df = train_df.dropna()"
   ]
  },
  {
   "cell_type": "code",
   "execution_count": 8,
   "id": "9854d09c-13b6-4851-8f48-eb2004c8b6f2",
   "metadata": {},
   "outputs": [],
   "source": [
    "# Changing bd outliers to NaN\n",
    "train_df['bd'] = train_df['bd'].apply(lambda x: np.nan if x <14 or x > 75 else x)"
   ]
  },
  {
   "cell_type": "code",
   "execution_count": 9,
   "id": "6d9c9026-f258-4d1a-a8d0-027a1790d723",
   "metadata": {},
   "outputs": [],
   "source": [
    "# Converting remaining plan duration to int\n",
    "train_df['remaining_plan_duration'] = train_df['remaining_plan_duration'].dt.days"
   ]
  },
  {
   "cell_type": "code",
   "execution_count": 10,
   "id": "4822b1eb-79a3-4708-8449-4f1e3d18dd7d",
   "metadata": {},
   "outputs": [],
   "source": [
    "# Converting total seconds to hours\n",
    "train_df['total_secs']= round(train_df['total_secs']/3600,2)"
   ]
  },
  {
   "cell_type": "code",
   "execution_count": 11,
   "id": "f302f5ac-d1e9-46d0-a52e-2b72a55c3695",
   "metadata": {},
   "outputs": [],
   "source": [
    "# Creating average usage (hours) per day from latest transaction\n",
    "train_df['usage_from_ltd'] = round(train_df['total_secs']/train_df['remaining_plan_duration'],2)\n",
    "# replacing Nan with 0 \n",
    "train_df['usage_from_ltd'].replace([np.nan], 0, inplace=True)"
   ]
  },
  {
   "cell_type": "code",
   "execution_count": 12,
   "id": "55cf16b7-5361-450e-9276-485fca8cfd27",
   "metadata": {},
   "outputs": [],
   "source": [
    "# converting registration time to datetime object\n",
    "train_df['registration_init_time'] = pd.to_datetime(train_df['registration_init_time'], format='%Y%m%d')"
   ]
  },
  {
   "cell_type": "code",
   "execution_count": 13,
   "id": "91e7a3f0-f687-4086-b2af-869f5b243f34",
   "metadata": {},
   "outputs": [],
   "source": [
    "# creating discount percentage column\n",
    "train_df['discount_percentage'] = round((train_df['plan_list_price'] - train_df['actual_amount_paid'])/train_df['plan_list_price'],2)\n",
    "\n",
    "train_df['discount_percentage'].replace([np.nan,-0.01,0.01], 0, inplace=True)"
   ]
  },
  {
   "cell_type": "markdown",
   "id": "f7b32396-0b7b-45d9-b8ed-6cb86d80e984",
   "metadata": {},
   "source": [
    "### Cyclic Encoding"
   ]
  },
  {
   "cell_type": "code",
   "execution_count": 15,
   "id": "9dfb1c1d-bf4f-48bc-8772-9c9e9a698356",
   "metadata": {},
   "outputs": [],
   "source": [
    "def encode(data, col, max_val):\n",
    "    data[col + '_sin'] = np.sin(2 * np.pi * data[col]/max_val)\n",
    "    data[col + '_cos'] = np.cos(2 * np.pi * data[col]/max_val)\n",
    "    return data"
   ]
  },
  {
   "cell_type": "code",
   "execution_count": 16,
   "id": "1ab47860-1b47-48dd-9232-aa3b38bc4525",
   "metadata": {},
   "outputs": [],
   "source": [
    "# cyclic encoding transaction date\n",
    "#year\n",
    "train_df['last_transaction_year'] = train_df['transaction_date'].dt.year\n",
    "\n",
    "#month\n",
    "train_df['last_transaction_month'] = train_df['transaction_date'].dt.month\n",
    "train_df = encode(train_df, 'last_transaction_month', 12)\n",
    "\n",
    "#day\n",
    "train_df['last_transaction_day'] = train_df['transaction_date'].dt.day\n",
    "train_df= encode(train_df, 'last_transaction_day', 31)\n",
    "\n",
    "train_df =train_df.drop(['last_transaction_month', 'last_transaction_day'],axis=1)"
   ]
  },
  {
   "cell_type": "code",
   "execution_count": 17,
   "id": "872c1de1-55a1-4021-84e5-527ff29203a5",
   "metadata": {},
   "outputs": [],
   "source": [
    "# cyclic encoding membership expire date\n",
    "#year\n",
    "train_df['expire_year'] = train_df['membership_expire_date'].dt.year\n",
    "\n",
    "#month\n",
    "train_df['expire_month'] = train_df['membership_expire_date'].dt.month\n",
    "train_df = encode(train_df, 'expire_month', 12)\n",
    "\n",
    "#day\n",
    "train_df['expire_day'] = train_df['membership_expire_date'].dt.day\n",
    "train_df= encode(train_df, 'expire_day', 31)\n",
    "\n",
    "# droping month and day columns\n",
    "train_df =train_df.drop(['expire_month', 'expire_day'],axis=1)"
   ]
  },
  {
   "cell_type": "code",
   "execution_count": 18,
   "id": "8a96d5c2-f5dd-4b93-b660-b283f3e0dc45",
   "metadata": {},
   "outputs": [],
   "source": [
    "# cyclic encoding registration date\n",
    "#year\n",
    "train_df['registration_year'] = train_df['registration_init_time'].dt.year\n",
    "\n",
    "#month\n",
    "train_df['registration_month'] = train_df['registration_init_time'].dt.month\n",
    "train_df = encode(train_df, 'registration_month', 12)\n",
    "\n",
    "#day\n",
    "train_df['registration_day'] = train_df['registration_init_time'].dt.day\n",
    "train_df= encode(train_df, 'registration_day', 31)\n",
    "\n",
    "# droping month and day columns\n",
    "train_df =train_df.drop(['registration_month', 'registration_day'],axis=1)\n"
   ]
  },
  {
   "cell_type": "code",
   "execution_count": 19,
   "id": "3d3644fd-e69e-4354-b717-66f5b451176d",
   "metadata": {},
   "outputs": [],
   "source": [
    "# droping date columns to avoid data leakege\n",
    "train_df =train_df.drop(['registration_init_time', 'membership_expire_date', 'transaction_date'],axis=1)"
   ]
  },
  {
   "cell_type": "code",
   "execution_count": 22,
   "id": "d783ff36-1d26-4fda-b133-555680138061",
   "metadata": {},
   "outputs": [
    {
     "name": "stdout",
     "output_type": "stream",
     "text": [
      "<class 'pandas.core.frame.DataFrame'>\n",
      "Index: 636730 entries, 1 to 970956\n",
      "Data columns (total 37 columns):\n",
      " #   Column                      Non-Null Count   Dtype  \n",
      "---  ------                      --------------   -----  \n",
      " 0   msno                        636730 non-null  object \n",
      " 1   is_churn                    636730 non-null  int64  \n",
      " 2   payment_method_id           636730 non-null  float64\n",
      " 3   payment_plan_days           636730 non-null  float64\n",
      " 4   plan_list_price             636730 non-null  float64\n",
      " 5   actual_amount_paid          636730 non-null  float64\n",
      " 6   is_auto_renew               636730 non-null  float64\n",
      " 7   is_cancel                   636730 non-null  float64\n",
      " 8   remaining_plan_duration     636730 non-null  int64  \n",
      " 9   is_discount                 636730 non-null  object \n",
      " 10  num_25                      636730 non-null  float64\n",
      " 11  num_50                      636730 non-null  float64\n",
      " 12  num_75                      636730 non-null  float64\n",
      " 13  num_985                     636730 non-null  float64\n",
      " 14  num_100                     636730 non-null  float64\n",
      " 15  num_unq                     636730 non-null  float64\n",
      " 16  total_secs                  636730 non-null  float64\n",
      " 17  city                        636730 non-null  float64\n",
      " 18  bd                          292667 non-null  float64\n",
      " 19  registered_via              636730 non-null  float64\n",
      " 20  usage_from_ltd              636730 non-null  float64\n",
      " 21  discount_percentage         636730 non-null  float64\n",
      " 22  last_transaction_year       636730 non-null  int32  \n",
      " 23  last_transaction_month_sin  636730 non-null  float64\n",
      " 24  last_transaction_month_cos  636730 non-null  float64\n",
      " 25  last_transaction_day_sin    636730 non-null  float64\n",
      " 26  last_transaction_day_cos    636730 non-null  float64\n",
      " 27  expire_year                 636730 non-null  int32  \n",
      " 28  expire_month_sin            636730 non-null  float64\n",
      " 29  expire_month_cos            636730 non-null  float64\n",
      " 30  expire_day_sin              636730 non-null  float64\n",
      " 31  expire_day_cos              636730 non-null  float64\n",
      " 32  registration_year           636730 non-null  int32  \n",
      " 33  registration_month_sin      636730 non-null  float64\n",
      " 34  registration_month_cos      636730 non-null  float64\n",
      " 35  registration_day_sin        636730 non-null  float64\n",
      " 36  registration_day_cos        636730 non-null  float64\n",
      "dtypes: float64(30), int32(3), int64(2), object(2)\n",
      "memory usage: 177.3+ MB\n"
     ]
    }
   ],
   "source": [
    "train_df.info()"
   ]
  },
  {
   "cell_type": "code",
   "execution_count": 21,
   "id": "03274d90-daa2-4d6d-bf83-f6858d19f620",
   "metadata": {},
   "outputs": [],
   "source": [
    "#train_df.to_csv('train_df_2.csv')"
   ]
  }
 ],
 "metadata": {
  "kernelspec": {
   "display_name": "Python 3 (ipykernel)",
   "language": "python",
   "name": "python3"
  },
  "language_info": {
   "codemirror_mode": {
    "name": "ipython",
    "version": 3
   },
   "file_extension": ".py",
   "mimetype": "text/x-python",
   "name": "python",
   "nbconvert_exporter": "python",
   "pygments_lexer": "ipython3",
   "version": "3.10.6"
  }
 },
 "nbformat": 4,
 "nbformat_minor": 5
}
