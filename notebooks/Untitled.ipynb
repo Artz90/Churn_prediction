{
 "cells": [
  {
   "cell_type": "code",
   "execution_count": 1,
   "id": "ff37e8ed-9464-4bf3-aa79-4150565fd9f7",
   "metadata": {},
   "outputs": [],
   "source": [
    "import pandas as pd\n",
    "import numpy as np"
   ]
  },
  {
   "cell_type": "code",
   "execution_count": 2,
   "id": "5dfdfe3c-9bf7-4b6f-9af9-a5ae2447607f",
   "metadata": {},
   "outputs": [],
   "source": [
    "df = pd.read_csv(\"/Users/andretomaz/code/XavierLooyens/Churn_prediction/raw_data/Cache/churn_df_balanced.csv\")"
   ]
  },
  {
   "cell_type": "code",
   "execution_count": 3,
   "id": "6113ce35-60a6-4c1e-a1d2-90eba4b87417",
   "metadata": {
    "scrolled": true
   },
   "outputs": [
    {
     "data": {
      "text/plain": [
       "Unnamed: 0                        0\n",
       "msno                              0\n",
       "is_churn                          0\n",
       "payment_method_id                 0\n",
       "payment_plan_days                 0\n",
       "plan_list_price                   0\n",
       "actual_amount_paid                0\n",
       "is_auto_renew                     0\n",
       "is_cancel                         0\n",
       "remaining_plan_duration           0\n",
       "is_discount                       0\n",
       "num_25                            0\n",
       "num_50                            0\n",
       "num_75                            0\n",
       "num_985                           0\n",
       "num_100                           0\n",
       "num_unq                           0\n",
       "total_secs                        0\n",
       "city                              0\n",
       "bd                            24760\n",
       "registered_via                    0\n",
       "period_0_churn                    0\n",
       "period_-1_churn                   0\n",
       "period_-2_churn                   0\n",
       "period_-3_churn                   0\n",
       "period_-4_churn                   0\n",
       "period_-5_churn                   0\n",
       "usage_from_ltd                    0\n",
       "discount_percentage               0\n",
       "last_transaction_year             0\n",
       "last_transaction_month_sin        0\n",
       "last_transaction_month_cos        0\n",
       "last_transaction_day_sin          0\n",
       "last_transaction_day_cos          0\n",
       "expire_year                       0\n",
       "expire_month_sin                  0\n",
       "expire_month_cos                  0\n",
       "expire_day_sin                    0\n",
       "expire_day_cos                    0\n",
       "registration_year                 0\n",
       "registration_month_sin            0\n",
       "registration_month_cos            0\n",
       "registration_day_sin              0\n",
       "registration_day_cos              0\n",
       "dtype: int64"
      ]
     },
     "execution_count": 3,
     "metadata": {},
     "output_type": "execute_result"
    }
   ],
   "source": [
    "df.isnull().sum()"
   ]
  },
  {
   "cell_type": "code",
   "execution_count": null,
   "id": "2849ebe8-2d5a-449d-819a-e031f30130a0",
   "metadata": {},
   "outputs": [],
   "source": [
    "s = df.loc[df['discount_percentage'] == np.nan, ['discount_percentage', 'plan_list_price', 'actual_amount_paid']]"
   ]
  },
  {
   "cell_type": "code",
   "execution_count": null,
   "id": "b52f4501-00f2-42a2-853d-2183352c2f61",
   "metadata": {},
   "outputs": [],
   "source": []
  },
  {
   "cell_type": "code",
   "execution_count": null,
   "id": "ebc08027-429a-4989-97f3-9de051fcd26c",
   "metadata": {},
   "outputs": [],
   "source": [
    "n = df[df['discount_percentage'].isnull()]"
   ]
  },
  {
   "cell_type": "code",
   "execution_count": null,
   "id": "60950dc8-7692-41b4-80b1-defa6b4bb76e",
   "metadata": {},
   "outputs": [],
   "source": [
    "n[['discount_percentage','plan_list_price', 'actual_amount_paid']]"
   ]
  },
  {
   "cell_type": "code",
   "execution_count": null,
   "id": "27dbe0b2-8f08-4294-a521-010104e6e09b",
   "metadata": {},
   "outputs": [],
   "source": []
  }
 ],
 "metadata": {
  "kernelspec": {
   "display_name": "Python 3 (ipykernel)",
   "language": "python",
   "name": "python3"
  },
  "language_info": {
   "codemirror_mode": {
    "name": "ipython",
    "version": 3
   },
   "file_extension": ".py",
   "mimetype": "text/x-python",
   "name": "python",
   "nbconvert_exporter": "python",
   "pygments_lexer": "ipython3",
   "version": "3.10.6"
  }
 },
 "nbformat": 4,
 "nbformat_minor": 5
}
