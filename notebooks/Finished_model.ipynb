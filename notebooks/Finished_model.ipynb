{
 "cells": [
  {
   "cell_type": "code",
   "execution_count": 17,
   "id": "55ed5cf8-3fc7-45b1-94fc-19a1bd834838",
   "metadata": {},
   "outputs": [],
   "source": [
    "import pandas as pd\n",
    "import numpy as np\n",
    "from sklearn.model_selection import train_test_split, cross_validate\n",
    "from sklearn.linear_model import LogisticRegression\n",
    "from sklearn.pipeline import make_pipeline\n",
    "from sklearn.preprocessing import StandardScaler, RobustScaler, MinMaxScaler, FunctionTransformer\n",
    "from sklearn.compose import ColumnTransformer\n",
    "import warnings\n",
    "\n",
    "\n"
   ]
  },
  {
   "cell_type": "code",
   "execution_count": 18,
   "id": "b2cf3030-51cf-44c8-9a4a-9880acc3d610",
   "metadata": {},
   "outputs": [],
   "source": [
    "data_df= pd.read_csv(\"../raw_data/churn_df_underbalanced.csv\")"
   ]
  },
  {
   "cell_type": "markdown",
   "id": "93eff026-2389-4b12-95e3-2f8447cbf7ca",
   "metadata": {},
   "source": [
    "## Import data"
   ]
  },
  {
   "cell_type": "code",
   "execution_count": 19,
   "id": "5da90605-8a58-4aae-8726-904b0c6be672",
   "metadata": {},
   "outputs": [],
   "source": [
    "data_df = data_df.sample(frac=1, random_state=42)"
   ]
  },
  {
   "cell_type": "code",
   "execution_count": 20,
   "id": "41da50f6-8f47-41d4-af0f-9a08e779682a",
   "metadata": {},
   "outputs": [],
   "source": [
    "data_df = data_df.drop(['Unnamed: 0','msno', 'bd', 'payment_method_id', 'city', 'registered_via'], axis=1)"
   ]
  },
  {
   "cell_type": "markdown",
   "id": "7cad38f0-73cc-4f3e-9805-4ea9eae990c4",
   "metadata": {},
   "source": [
    "## Which scaler to use for which feature"
   ]
  },
  {
   "cell_type": "code",
   "execution_count": 21,
   "id": "a51075f3-500e-4dbc-bd0b-f84567ee921f",
   "metadata": {},
   "outputs": [],
   "source": [
    "robust_features = [               'remaining_plan_duration', \n",
    "          'usage_from_ltd',\n",
    "              'payment_plan_days',\n",
    "              'plan_list_price',\n",
    "              'actual_amount_paid',\n",
    "             'num_50',\n",
    "              'num_75',\n",
    "              'num_985',\n",
    "              \n",
    "              'expire_year',\n",
    "              'last_transaction_year'\n",
    "             ]\n",
    "minmax_features = ['registration_year']\n",
    "normal_features = [ 'num_25',\n",
    "              \n",
    "              'num_100',\n",
    "              'num_unq',\n",
    "              'total_secs',]"
   ]
  },
  {
   "cell_type": "markdown",
   "id": "087c8ddc-a73b-4737-a296-cc95703f6ff5",
   "metadata": {},
   "source": [
    "## Pipeline"
   ]
  },
  {
   "cell_type": "code",
   "execution_count": 22,
   "id": "fc685639-ac8b-4e75-9df3-161f516339a3",
   "metadata": {},
   "outputs": [],
   "source": [
    "# Build the pipeline with the different steps\n",
    "robust_pipeline = make_pipeline(RobustScaler())\n",
    "minmax_pipeline = make_pipeline(MinMaxScaler())\n",
    "log_pipeline = make_pipeline( \n",
    "    FunctionTransformer(np.log1p, validate=True),\n",
    "    StandardScaler())\n",
    "\n",
    "preprocessor_new = ColumnTransformer(\n",
    "    transformers=[\n",
    "        ('Robust', robust_pipeline, robust_features),\n",
    "        ('MinMax', minmax_pipeline, minmax_features),\n",
    "        ('Log', log_pipeline, normal_features)\n",
    "    ], remainder='passthrough'\n",
    ")\n",
    "    \n"
   ]
  },
  {
   "cell_type": "code",
   "execution_count": 23,
   "id": "de142f74-d9c6-45c6-8817-66d91b7c477c",
   "metadata": {},
   "outputs": [
    {
     "data": {
      "text/html": [
       "<style>#sk-container-id-2 {color: black;}#sk-container-id-2 pre{padding: 0;}#sk-container-id-2 div.sk-toggleable {background-color: white;}#sk-container-id-2 label.sk-toggleable__label {cursor: pointer;display: block;width: 100%;margin-bottom: 0;padding: 0.3em;box-sizing: border-box;text-align: center;}#sk-container-id-2 label.sk-toggleable__label-arrow:before {content: \"▸\";float: left;margin-right: 0.25em;color: #696969;}#sk-container-id-2 label.sk-toggleable__label-arrow:hover:before {color: black;}#sk-container-id-2 div.sk-estimator:hover label.sk-toggleable__label-arrow:before {color: black;}#sk-container-id-2 div.sk-toggleable__content {max-height: 0;max-width: 0;overflow: hidden;text-align: left;background-color: #f0f8ff;}#sk-container-id-2 div.sk-toggleable__content pre {margin: 0.2em;color: black;border-radius: 0.25em;background-color: #f0f8ff;}#sk-container-id-2 input.sk-toggleable__control:checked~div.sk-toggleable__content {max-height: 200px;max-width: 100%;overflow: auto;}#sk-container-id-2 input.sk-toggleable__control:checked~label.sk-toggleable__label-arrow:before {content: \"▾\";}#sk-container-id-2 div.sk-estimator input.sk-toggleable__control:checked~label.sk-toggleable__label {background-color: #d4ebff;}#sk-container-id-2 div.sk-label input.sk-toggleable__control:checked~label.sk-toggleable__label {background-color: #d4ebff;}#sk-container-id-2 input.sk-hidden--visually {border: 0;clip: rect(1px 1px 1px 1px);clip: rect(1px, 1px, 1px, 1px);height: 1px;margin: -1px;overflow: hidden;padding: 0;position: absolute;width: 1px;}#sk-container-id-2 div.sk-estimator {font-family: monospace;background-color: #f0f8ff;border: 1px dotted black;border-radius: 0.25em;box-sizing: border-box;margin-bottom: 0.5em;}#sk-container-id-2 div.sk-estimator:hover {background-color: #d4ebff;}#sk-container-id-2 div.sk-parallel-item::after {content: \"\";width: 100%;border-bottom: 1px solid gray;flex-grow: 1;}#sk-container-id-2 div.sk-label:hover label.sk-toggleable__label {background-color: #d4ebff;}#sk-container-id-2 div.sk-serial::before {content: \"\";position: absolute;border-left: 1px solid gray;box-sizing: border-box;top: 0;bottom: 0;left: 50%;z-index: 0;}#sk-container-id-2 div.sk-serial {display: flex;flex-direction: column;align-items: center;background-color: white;padding-right: 0.2em;padding-left: 0.2em;position: relative;}#sk-container-id-2 div.sk-item {position: relative;z-index: 1;}#sk-container-id-2 div.sk-parallel {display: flex;align-items: stretch;justify-content: center;background-color: white;position: relative;}#sk-container-id-2 div.sk-item::before, #sk-container-id-2 div.sk-parallel-item::before {content: \"\";position: absolute;border-left: 1px solid gray;box-sizing: border-box;top: 0;bottom: 0;left: 50%;z-index: -1;}#sk-container-id-2 div.sk-parallel-item {display: flex;flex-direction: column;z-index: 1;position: relative;background-color: white;}#sk-container-id-2 div.sk-parallel-item:first-child::after {align-self: flex-end;width: 50%;}#sk-container-id-2 div.sk-parallel-item:last-child::after {align-self: flex-start;width: 50%;}#sk-container-id-2 div.sk-parallel-item:only-child::after {width: 0;}#sk-container-id-2 div.sk-dashed-wrapped {border: 1px dashed gray;margin: 0 0.4em 0.5em 0.4em;box-sizing: border-box;padding-bottom: 0.4em;background-color: white;}#sk-container-id-2 div.sk-label label {font-family: monospace;font-weight: bold;display: inline-block;line-height: 1.2em;}#sk-container-id-2 div.sk-label-container {text-align: center;}#sk-container-id-2 div.sk-container {/* jupyter's `normalize.less` sets `[hidden] { display: none; }` but bootstrap.min.css set `[hidden] { display: none !important; }` so we also need the `!important` here to be able to override the default hidden behavior on the sphinx rendered scikit-learn.org. See: https://github.com/scikit-learn/scikit-learn/issues/21755 */display: inline-block !important;position: relative;}#sk-container-id-2 div.sk-text-repr-fallback {display: none;}</style><div id=\"sk-container-id-2\" class=\"sk-top-container\"><div class=\"sk-text-repr-fallback\"><pre>ColumnTransformer(remainder=&#x27;passthrough&#x27;,\n",
       "                  transformers=[(&#x27;Robust&#x27;,\n",
       "                                 Pipeline(steps=[(&#x27;robustscaler&#x27;,\n",
       "                                                  RobustScaler())]),\n",
       "                                 [&#x27;remaining_plan_duration&#x27;, &#x27;usage_from_ltd&#x27;,\n",
       "                                  &#x27;payment_plan_days&#x27;, &#x27;plan_list_price&#x27;,\n",
       "                                  &#x27;actual_amount_paid&#x27;, &#x27;num_50&#x27;, &#x27;num_75&#x27;,\n",
       "                                  &#x27;num_985&#x27;, &#x27;expire_year&#x27;,\n",
       "                                  &#x27;last_transaction_year&#x27;]),\n",
       "                                (&#x27;MinMax&#x27;,\n",
       "                                 Pipeline(steps=[(&#x27;minmaxscaler&#x27;,\n",
       "                                                  MinMaxScaler())]),\n",
       "                                 [&#x27;registration_year&#x27;]),\n",
       "                                (&#x27;Log&#x27;,\n",
       "                                 Pipeline(steps=[(&#x27;functiontransformer&#x27;,\n",
       "                                                  FunctionTransformer(func=&lt;ufunc &#x27;log1p&#x27;&gt;,\n",
       "                                                                      validate=True)),\n",
       "                                                 (&#x27;standardscaler&#x27;,\n",
       "                                                  StandardScaler())]),\n",
       "                                 [&#x27;num_25&#x27;, &#x27;num_100&#x27;, &#x27;num_unq&#x27;,\n",
       "                                  &#x27;total_secs&#x27;])])</pre><b>In a Jupyter environment, please rerun this cell to show the HTML representation or trust the notebook. <br />On GitHub, the HTML representation is unable to render, please try loading this page with nbviewer.org.</b></div><div class=\"sk-container\" hidden><div class=\"sk-item sk-dashed-wrapped\"><div class=\"sk-label-container\"><div class=\"sk-label sk-toggleable\"><input class=\"sk-toggleable__control sk-hidden--visually\" id=\"sk-estimator-id-11\" type=\"checkbox\" ><label for=\"sk-estimator-id-11\" class=\"sk-toggleable__label sk-toggleable__label-arrow\">ColumnTransformer</label><div class=\"sk-toggleable__content\"><pre>ColumnTransformer(remainder=&#x27;passthrough&#x27;,\n",
       "                  transformers=[(&#x27;Robust&#x27;,\n",
       "                                 Pipeline(steps=[(&#x27;robustscaler&#x27;,\n",
       "                                                  RobustScaler())]),\n",
       "                                 [&#x27;remaining_plan_duration&#x27;, &#x27;usage_from_ltd&#x27;,\n",
       "                                  &#x27;payment_plan_days&#x27;, &#x27;plan_list_price&#x27;,\n",
       "                                  &#x27;actual_amount_paid&#x27;, &#x27;num_50&#x27;, &#x27;num_75&#x27;,\n",
       "                                  &#x27;num_985&#x27;, &#x27;expire_year&#x27;,\n",
       "                                  &#x27;last_transaction_year&#x27;]),\n",
       "                                (&#x27;MinMax&#x27;,\n",
       "                                 Pipeline(steps=[(&#x27;minmaxscaler&#x27;,\n",
       "                                                  MinMaxScaler())]),\n",
       "                                 [&#x27;registration_year&#x27;]),\n",
       "                                (&#x27;Log&#x27;,\n",
       "                                 Pipeline(steps=[(&#x27;functiontransformer&#x27;,\n",
       "                                                  FunctionTransformer(func=&lt;ufunc &#x27;log1p&#x27;&gt;,\n",
       "                                                                      validate=True)),\n",
       "                                                 (&#x27;standardscaler&#x27;,\n",
       "                                                  StandardScaler())]),\n",
       "                                 [&#x27;num_25&#x27;, &#x27;num_100&#x27;, &#x27;num_unq&#x27;,\n",
       "                                  &#x27;total_secs&#x27;])])</pre></div></div></div><div class=\"sk-parallel\"><div class=\"sk-parallel-item\"><div class=\"sk-item\"><div class=\"sk-label-container\"><div class=\"sk-label sk-toggleable\"><input class=\"sk-toggleable__control sk-hidden--visually\" id=\"sk-estimator-id-12\" type=\"checkbox\" ><label for=\"sk-estimator-id-12\" class=\"sk-toggleable__label sk-toggleable__label-arrow\">Robust</label><div class=\"sk-toggleable__content\"><pre>[&#x27;remaining_plan_duration&#x27;, &#x27;usage_from_ltd&#x27;, &#x27;payment_plan_days&#x27;, &#x27;plan_list_price&#x27;, &#x27;actual_amount_paid&#x27;, &#x27;num_50&#x27;, &#x27;num_75&#x27;, &#x27;num_985&#x27;, &#x27;expire_year&#x27;, &#x27;last_transaction_year&#x27;]</pre></div></div></div><div class=\"sk-serial\"><div class=\"sk-item\"><div class=\"sk-serial\"><div class=\"sk-item\"><div class=\"sk-estimator sk-toggleable\"><input class=\"sk-toggleable__control sk-hidden--visually\" id=\"sk-estimator-id-13\" type=\"checkbox\" ><label for=\"sk-estimator-id-13\" class=\"sk-toggleable__label sk-toggleable__label-arrow\">RobustScaler</label><div class=\"sk-toggleable__content\"><pre>RobustScaler()</pre></div></div></div></div></div></div></div></div><div class=\"sk-parallel-item\"><div class=\"sk-item\"><div class=\"sk-label-container\"><div class=\"sk-label sk-toggleable\"><input class=\"sk-toggleable__control sk-hidden--visually\" id=\"sk-estimator-id-14\" type=\"checkbox\" ><label for=\"sk-estimator-id-14\" class=\"sk-toggleable__label sk-toggleable__label-arrow\">MinMax</label><div class=\"sk-toggleable__content\"><pre>[&#x27;registration_year&#x27;]</pre></div></div></div><div class=\"sk-serial\"><div class=\"sk-item\"><div class=\"sk-serial\"><div class=\"sk-item\"><div class=\"sk-estimator sk-toggleable\"><input class=\"sk-toggleable__control sk-hidden--visually\" id=\"sk-estimator-id-15\" type=\"checkbox\" ><label for=\"sk-estimator-id-15\" class=\"sk-toggleable__label sk-toggleable__label-arrow\">MinMaxScaler</label><div class=\"sk-toggleable__content\"><pre>MinMaxScaler()</pre></div></div></div></div></div></div></div></div><div class=\"sk-parallel-item\"><div class=\"sk-item\"><div class=\"sk-label-container\"><div class=\"sk-label sk-toggleable\"><input class=\"sk-toggleable__control sk-hidden--visually\" id=\"sk-estimator-id-16\" type=\"checkbox\" ><label for=\"sk-estimator-id-16\" class=\"sk-toggleable__label sk-toggleable__label-arrow\">Log</label><div class=\"sk-toggleable__content\"><pre>[&#x27;num_25&#x27;, &#x27;num_100&#x27;, &#x27;num_unq&#x27;, &#x27;total_secs&#x27;]</pre></div></div></div><div class=\"sk-serial\"><div class=\"sk-item\"><div class=\"sk-serial\"><div class=\"sk-item\"><div class=\"sk-estimator sk-toggleable\"><input class=\"sk-toggleable__control sk-hidden--visually\" id=\"sk-estimator-id-17\" type=\"checkbox\" ><label for=\"sk-estimator-id-17\" class=\"sk-toggleable__label sk-toggleable__label-arrow\">FunctionTransformer</label><div class=\"sk-toggleable__content\"><pre>FunctionTransformer(func=&lt;ufunc &#x27;log1p&#x27;&gt;, validate=True)</pre></div></div></div><div class=\"sk-item\"><div class=\"sk-estimator sk-toggleable\"><input class=\"sk-toggleable__control sk-hidden--visually\" id=\"sk-estimator-id-18\" type=\"checkbox\" ><label for=\"sk-estimator-id-18\" class=\"sk-toggleable__label sk-toggleable__label-arrow\">StandardScaler</label><div class=\"sk-toggleable__content\"><pre>StandardScaler()</pre></div></div></div></div></div></div></div></div><div class=\"sk-parallel-item\"><div class=\"sk-item\"><div class=\"sk-label-container\"><div class=\"sk-label sk-toggleable\"><input class=\"sk-toggleable__control sk-hidden--visually\" id=\"sk-estimator-id-19\" type=\"checkbox\" ><label for=\"sk-estimator-id-19\" class=\"sk-toggleable__label sk-toggleable__label-arrow\">remainder</label><div class=\"sk-toggleable__content\"><pre></pre></div></div></div><div class=\"sk-serial\"><div class=\"sk-item\"><div class=\"sk-estimator sk-toggleable\"><input class=\"sk-toggleable__control sk-hidden--visually\" id=\"sk-estimator-id-20\" type=\"checkbox\" ><label for=\"sk-estimator-id-20\" class=\"sk-toggleable__label sk-toggleable__label-arrow\">passthrough</label><div class=\"sk-toggleable__content\"><pre>passthrough</pre></div></div></div></div></div></div></div></div></div></div>"
      ],
      "text/plain": [
       "ColumnTransformer(remainder='passthrough',\n",
       "                  transformers=[('Robust',\n",
       "                                 Pipeline(steps=[('robustscaler',\n",
       "                                                  RobustScaler())]),\n",
       "                                 ['remaining_plan_duration', 'usage_from_ltd',\n",
       "                                  'payment_plan_days', 'plan_list_price',\n",
       "                                  'actual_amount_paid', 'num_50', 'num_75',\n",
       "                                  'num_985', 'expire_year',\n",
       "                                  'last_transaction_year']),\n",
       "                                ('MinMax',\n",
       "                                 Pipeline(steps=[('minmaxscaler',\n",
       "                                                  MinMaxScaler())]),\n",
       "                                 ['registration_year']),\n",
       "                                ('Log',\n",
       "                                 Pipeline(steps=[('functiontransformer',\n",
       "                                                  FunctionTransformer(func=<ufunc 'log1p'>,\n",
       "                                                                      validate=True)),\n",
       "                                                 ('standardscaler',\n",
       "                                                  StandardScaler())]),\n",
       "                                 ['num_25', 'num_100', 'num_unq',\n",
       "                                  'total_secs'])])"
      ]
     },
     "execution_count": 23,
     "metadata": {},
     "output_type": "execute_result"
    }
   ],
   "source": [
    "preprocessor_new"
   ]
  },
  {
   "cell_type": "code",
   "execution_count": 24,
   "id": "7758d0d1-2233-4e9b-9451-539f5fc0026c",
   "metadata": {},
   "outputs": [],
   "source": [
    "#create X and y\n",
    "X = data_df.drop(['is_churn'], axis=1)\n",
    "y= data_df['is_churn']"
   ]
  },
  {
   "cell_type": "code",
   "execution_count": 25,
   "id": "1c557de9-ebea-44da-8baa-eed390157424",
   "metadata": {},
   "outputs": [],
   "source": [
    "# Use fit on X_train and then transform both datasets\n",
    "preprocessor_new.fit(X)\n",
    "X_train_transformed = preprocessor_new.transform(X)"
   ]
  },
  {
   "cell_type": "code",
   "execution_count": 26,
   "id": "12557b07-3965-4eb1-b18f-a4456a8f115c",
   "metadata": {},
   "outputs": [],
   "source": [
    "# Convert transformed data back to DataFrame to ensure column order is maintained\n",
    "X_train_transformed = pd.DataFrame(\n",
    "    X_train_transformed, \n",
    "    columns=X.columns\n",
    ")"
   ]
  },
  {
   "cell_type": "markdown",
   "id": "5b1d98dd-0637-454c-8ad7-c089bba91d47",
   "metadata": {},
   "source": [
    "## Logistic Regresssion model"
   ]
  },
  {
   "cell_type": "code",
   "execution_count": 27,
   "id": "ae40ae6b-12b8-4453-8951-32544c354e04",
   "metadata": {},
   "outputs": [],
   "source": [
    "model = LogisticRegression(C= 2.58069,\n",
    "                           solver='liblinear',\n",
    " max_iter= 2,\n",
    "penalty= 'l1',\n",
    " class_weight= 'balanced')\n",
    "\n",
    "model_no_hyperparams = LogisticRegression()\n",
    "\n",
    "cv_results = cross_validate(model, X_train_transformed, y, cv=5, scoring='precision')\n",
    "\n",
    "precision = cv_results['test_score'].mean()\n",
    "\n",
    "warnings.filterwarnings('ignore')\n"
   ]
  },
  {
   "cell_type": "code",
   "execution_count": 28,
   "id": "fc51ee14-9c24-4c59-9cf4-a29bd4ece2e8",
   "metadata": {},
   "outputs": [
    {
     "data": {
      "text/plain": [
       "{'fit_time': array([0.05884385, 0.03540301, 0.05247521, 0.04340196, 0.03587604]),\n",
       " 'score_time': array([0.00842595, 0.00480223, 0.01079893, 0.00376892, 0.0036819 ]),\n",
       " 'test_score': array([0.95571679, 0.97522961, 0.95062924, 0.97351367, 0.963241  ])}"
      ]
     },
     "execution_count": 28,
     "metadata": {},
     "output_type": "execute_result"
    }
   ],
   "source": [
    "cv_results"
   ]
  },
  {
   "cell_type": "code",
   "execution_count": 29,
   "id": "ec942e1d-1b93-4ab2-88f4-5db592af8eea",
   "metadata": {},
   "outputs": [
    {
     "data": {
      "text/plain": [
       "0.9636660612373207"
      ]
     },
     "execution_count": 29,
     "metadata": {},
     "output_type": "execute_result"
    }
   ],
   "source": [
    "precision"
   ]
  }
 ],
 "metadata": {
  "kernelspec": {
   "display_name": "Python 3 (ipykernel)",
   "language": "python",
   "name": "python3"
  },
  "language_info": {
   "codemirror_mode": {
    "name": "ipython",
    "version": 3
   },
   "file_extension": ".py",
   "mimetype": "text/x-python",
   "name": "python",
   "nbconvert_exporter": "python",
   "pygments_lexer": "ipython3",
   "version": "3.10.6"
  }
 },
 "nbformat": 4,
 "nbformat_minor": 5
}
