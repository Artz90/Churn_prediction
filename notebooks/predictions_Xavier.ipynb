{
 "cells": [
  {
   "cell_type": "code",
   "execution_count": 5,
   "id": "378cd6eb-872e-41c5-8a68-dd6c1300816f",
   "metadata": {},
   "outputs": [],
   "source": [
    "#Imports\n",
    "import pandas as pd\n",
    "import numpy as np\n",
    "import joblib\n"
   ]
  },
  {
   "cell_type": "code",
   "execution_count": 48,
   "id": "4fdf5305-86f7-4186-9689-adb1cea8a042",
   "metadata": {},
   "outputs": [],
   "source": [
    "#importing 1st transactions\n",
    "test_df_sample= pd.read_csv(\"test_sample.csv\")\n",
    "ids = test_df_sample['msno'].copy()\n",
    "test_df_sample.drop(['msno', 'is_churn', 'bd','payment_method_id', 'city', 'registered_via'], axis=1, inplace=True)\n"
   ]
  },
  {
   "cell_type": "code",
   "execution_count": 43,
   "id": "d7488872-725d-4dad-b8a5-0ce42377ca9e",
   "metadata": {},
   "outputs": [],
   "source": [
    "#import model and preprocessor\n",
    "\n",
    "package = joblib.load(\"../Churn_prediction/model.pkl\")\n",
    "\n",
    "loaded_model = package.named_steps['classifier']\n",
    "loaded_preproc = package.named_steps['preprocessor']"
   ]
  },
  {
   "cell_type": "code",
   "execution_count": 53,
   "id": "d060dbd9-f873-4b74-a871-ed4e495ace10",
   "metadata": {},
   "outputs": [],
   "source": [
    "test_df_sample_preproc = loaded_preproc.fit_transform(test_df_sample)\n"
   ]
  },
  {
   "cell_type": "code",
   "execution_count": 45,
   "id": "5cdbca10-370c-4b19-b938-b3bd9424589b",
   "metadata": {},
   "outputs": [],
   "source": [
    "#list features for their scalers\n",
    "robust_features = [               'remaining_plan_duration', \n",
    "          'usage_from_ltd',\n",
    "              'payment_plan_days',\n",
    "              'plan_list_price',\n",
    "              'actual_amount_paid',\n",
    "             'num_50',\n",
    "              'num_75',\n",
    "              'num_985',\n",
    "              \n",
    "              'expire_year',\n",
    "              'last_transaction_year'\n",
    "             ]\n",
    "minmax_features = ['registration_year']\n",
    "normal_features = [ 'num_25',\n",
    "              \n",
    "              'num_100',\n",
    "              'num_unq',\n",
    "              'total_secs',]\n",
    "\n",
    "transformed_columns = robust_features + minmax_features + normal_features\n",
    "passthrough_cols = [col for col in test_df_sample.columns if col not in transformed_columns]\n",
    "new_cols_order = transformed_columns + passthrough_cols\n",
    "\n",
    "# Convert transformed data back to DataFrame to ensure column order is maintained\n",
    "test_df_sample_preproc = pd.DataFrame(\n",
    "    test_df_sample_preproc, \n",
    "    columns=new_cols_order\n",
    ")"
   ]
  },
  {
   "cell_type": "code",
   "execution_count": 54,
   "id": "f2bb3126-6b71-4ebf-bf45-09dc7a330236",
   "metadata": {},
   "outputs": [],
   "source": [
    "predict = loaded_model.predict_proba(test_df_sample_preproc)"
   ]
  },
  {
   "cell_type": "code",
   "execution_count": 55,
   "id": "6ab0d11b-3f73-48ce-a5cd-3005f2d602d2",
   "metadata": {},
   "outputs": [
    {
     "data": {
      "text/html": [
       "<div>\n",
       "<style scoped>\n",
       "    .dataframe tbody tr th:only-of-type {\n",
       "        vertical-align: middle;\n",
       "    }\n",
       "\n",
       "    .dataframe tbody tr th {\n",
       "        vertical-align: top;\n",
       "    }\n",
       "\n",
       "    .dataframe thead th {\n",
       "        text-align: right;\n",
       "    }\n",
       "</style>\n",
       "<table border=\"1\" class=\"dataframe\">\n",
       "  <thead>\n",
       "    <tr style=\"text-align: right;\">\n",
       "      <th></th>\n",
       "      <th>ID</th>\n",
       "      <th>Prediction percentage</th>\n",
       "    </tr>\n",
       "  </thead>\n",
       "  <tbody>\n",
       "    <tr>\n",
       "      <th>0</th>\n",
       "      <td>waapRCaC7ZuXbhspZFVAi6LZlsiGzy1/ZKcx3b3p5k0=</td>\n",
       "      <td>0.001171</td>\n",
       "    </tr>\n",
       "    <tr>\n",
       "      <th>1</th>\n",
       "      <td>t8Mm0n+kswYZ1nGCxbHbihjV7LgAIYcuBJ0ijV7MN1c=</td>\n",
       "      <td>0.285515</td>\n",
       "    </tr>\n",
       "    <tr>\n",
       "      <th>2</th>\n",
       "      <td>TuIVZ3831MX0E078BnPH14SEvNxo6XZg0lTT5lXe9V4=</td>\n",
       "      <td>0.269922</td>\n",
       "    </tr>\n",
       "    <tr>\n",
       "      <th>3</th>\n",
       "      <td>rdqumWKqK+2C+69cqarqFbCFJWGDoWf/oD4ppREUEOc=</td>\n",
       "      <td>0.015125</td>\n",
       "    </tr>\n",
       "    <tr>\n",
       "      <th>4</th>\n",
       "      <td>wWpC7gW4v7/L+dAG8O0ggc6gWm1CiVrfdUUE2Q7BYsY=</td>\n",
       "      <td>0.143332</td>\n",
       "    </tr>\n",
       "    <tr>\n",
       "      <th>...</th>\n",
       "      <td>...</td>\n",
       "      <td>...</td>\n",
       "    </tr>\n",
       "    <tr>\n",
       "      <th>49995</th>\n",
       "      <td>li65iBvJ3V/T8he8cZarGOHtDghyquGRaDh05emy/u8=</td>\n",
       "      <td>0.059956</td>\n",
       "    </tr>\n",
       "    <tr>\n",
       "      <th>49996</th>\n",
       "      <td>/xvBUSoWkJpsDyIIgshYXKHOR+b30Lg33OGcZ9S6xTA=</td>\n",
       "      <td>0.001100</td>\n",
       "    </tr>\n",
       "    <tr>\n",
       "      <th>49997</th>\n",
       "      <td>amrpjonRx5wr9XFjUjl/YmM3fSCgdZHQJmKE3rmF49g=</td>\n",
       "      <td>0.011415</td>\n",
       "    </tr>\n",
       "    <tr>\n",
       "      <th>49998</th>\n",
       "      <td>D2c882fWyJrND6YQ9zf+qsz5f2Uv2PGqNXyH9uM9lLI=</td>\n",
       "      <td>0.028760</td>\n",
       "    </tr>\n",
       "    <tr>\n",
       "      <th>49999</th>\n",
       "      <td>hm9og2KvLWnTkDYVNQ1t0I4/bUCo3dWyrcMFtigsR1U=</td>\n",
       "      <td>0.270487</td>\n",
       "    </tr>\n",
       "  </tbody>\n",
       "</table>\n",
       "<p>50000 rows × 2 columns</p>\n",
       "</div>"
      ],
      "text/plain": [
       "                                                 ID  Prediction percentage\n",
       "0      waapRCaC7ZuXbhspZFVAi6LZlsiGzy1/ZKcx3b3p5k0=               0.001171\n",
       "1      t8Mm0n+kswYZ1nGCxbHbihjV7LgAIYcuBJ0ijV7MN1c=               0.285515\n",
       "2      TuIVZ3831MX0E078BnPH14SEvNxo6XZg0lTT5lXe9V4=               0.269922\n",
       "3      rdqumWKqK+2C+69cqarqFbCFJWGDoWf/oD4ppREUEOc=               0.015125\n",
       "4      wWpC7gW4v7/L+dAG8O0ggc6gWm1CiVrfdUUE2Q7BYsY=               0.143332\n",
       "...                                             ...                    ...\n",
       "49995  li65iBvJ3V/T8he8cZarGOHtDghyquGRaDh05emy/u8=               0.059956\n",
       "49996  /xvBUSoWkJpsDyIIgshYXKHOR+b30Lg33OGcZ9S6xTA=               0.001100\n",
       "49997  amrpjonRx5wr9XFjUjl/YmM3fSCgdZHQJmKE3rmF49g=               0.011415\n",
       "49998  D2c882fWyJrND6YQ9zf+qsz5f2Uv2PGqNXyH9uM9lLI=               0.028760\n",
       "49999  hm9og2KvLWnTkDYVNQ1t0I4/bUCo3dWyrcMFtigsR1U=               0.270487\n",
       "\n",
       "[50000 rows x 2 columns]"
      ]
     },
     "execution_count": 55,
     "metadata": {},
     "output_type": "execute_result"
    }
   ],
   "source": [
    "new = pd.DataFrame({'ID': ids, 'Prediction percentage': predict[:,1]})\n",
    "new"
   ]
  },
  {
   "cell_type": "code",
   "execution_count": null,
   "id": "6fe43ca6-5e6b-4d26-9861-04ffc1ea4dd4",
   "metadata": {},
   "outputs": [],
   "source": []
  }
 ],
 "metadata": {
  "kernelspec": {
   "display_name": "Python 3 (ipykernel)",
   "language": "python",
   "name": "python3"
  },
  "language_info": {
   "codemirror_mode": {
    "name": "ipython",
    "version": 3
   },
   "file_extension": ".py",
   "mimetype": "text/x-python",
   "name": "python",
   "nbconvert_exporter": "python",
   "pygments_lexer": "ipython3",
   "version": "3.10.6"
  }
 },
 "nbformat": 4,
 "nbformat_minor": 5
}
